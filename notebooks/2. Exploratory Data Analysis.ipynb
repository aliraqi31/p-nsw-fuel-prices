{
 "cells": [
  {
   "cell_type": "markdown",
   "metadata": {},
   "source": [
    "## 2. Exploratory Data Analysis\n",
    "\n",
    "To-dos:\n",
    "\n",
    "* Create daily pricing calendar filling in values with last known price\n",
    "* Categorise FuelCode into Petrol/Diesel/Other and Regular/Premium\n",
    "* Geocode addresses for potential geospatial analysis"
   ]
  },
  {
   "cell_type": "code",
   "execution_count": 1,
   "metadata": {
    "collapsed": true
   },
   "outputs": [],
   "source": [
    "import pandas as pd\n",
    "\n",
    "data = pd.read_csv('../data/price_history.csv.gz', compression='gzip')"
   ]
  },
  {
   "cell_type": "code",
   "execution_count": null,
   "metadata": {},
   "outputs": [
    {
     "data": {
      "text/html": [
       "<div>\n",
       "<style>\n",
       "    .dataframe thead tr:only-child th {\n",
       "        text-align: right;\n",
       "    }\n",
       "\n",
       "    .dataframe thead th {\n",
       "        text-align: left;\n",
       "    }\n",
       "\n",
       "    .dataframe tbody tr th {\n",
       "        vertical-align: top;\n",
       "    }\n",
       "</style>\n",
       "<table border=\"1\" class=\"dataframe\">\n",
       "  <thead>\n",
       "    <tr style=\"text-align: right;\">\n",
       "      <th></th>\n",
       "      <th>ServiceStationName</th>\n",
       "      <th>Address</th>\n",
       "      <th>Suburb</th>\n",
       "      <th>Postcode</th>\n",
       "      <th>Brand</th>\n",
       "      <th>FuelCode</th>\n",
       "      <th>PriceUpdatedDate</th>\n",
       "      <th>Price</th>\n",
       "      <th>PriceUpdatedDate_date</th>\n",
       "    </tr>\n",
       "  </thead>\n",
       "  <tbody>\n",
       "    <tr>\n",
       "      <th>0</th>\n",
       "      <td>Metro Petroleum Islington</td>\n",
       "      <td>144 Maitland Rd, ISLINGTON NSW 2296</td>\n",
       "      <td>ISLINGTON</td>\n",
       "      <td>2296.0</td>\n",
       "      <td>Metro Fuel</td>\n",
       "      <td>E10</td>\n",
       "      <td>2017-10-01 00:02:52</td>\n",
       "      <td>116.9</td>\n",
       "      <td>2017-10-01</td>\n",
       "    </tr>\n",
       "    <tr>\n",
       "      <th>1</th>\n",
       "      <td>Independent Punchbowl</td>\n",
       "      <td>10-12 Park Ave, Punchbowl NSW 2196</td>\n",
       "      <td>Punchbowl</td>\n",
       "      <td>2196.0</td>\n",
       "      <td>Independent</td>\n",
       "      <td>E10</td>\n",
       "      <td>2017-10-01 00:08:44</td>\n",
       "      <td>119.9</td>\n",
       "      <td>2017-10-01</td>\n",
       "    </tr>\n",
       "    <tr>\n",
       "      <th>2</th>\n",
       "      <td>Independent Punchbowl</td>\n",
       "      <td>10-12 Park Ave, Punchbowl NSW 2196</td>\n",
       "      <td>Punchbowl</td>\n",
       "      <td>2196.0</td>\n",
       "      <td>Independent</td>\n",
       "      <td>P98</td>\n",
       "      <td>2017-10-01 00:08:44</td>\n",
       "      <td>139.9</td>\n",
       "      <td>2017-10-01</td>\n",
       "    </tr>\n",
       "    <tr>\n",
       "      <th>3</th>\n",
       "      <td>Independent Punchbowl</td>\n",
       "      <td>10-12 Park Ave, Punchbowl NSW 2196</td>\n",
       "      <td>Punchbowl</td>\n",
       "      <td>2196.0</td>\n",
       "      <td>Independent</td>\n",
       "      <td>U91</td>\n",
       "      <td>2017-10-01 00:08:44</td>\n",
       "      <td>122.9</td>\n",
       "      <td>2017-10-01</td>\n",
       "    </tr>\n",
       "    <tr>\n",
       "      <th>4</th>\n",
       "      <td>Metro Minto</td>\n",
       "      <td>1 Brookfield Road, Minto NSW 2566</td>\n",
       "      <td>Minto</td>\n",
       "      <td>2566.0</td>\n",
       "      <td>Metro Fuel</td>\n",
       "      <td>E10</td>\n",
       "      <td>2017-10-01 00:13:51</td>\n",
       "      <td>133.9</td>\n",
       "      <td>2017-10-01</td>\n",
       "    </tr>\n",
       "  </tbody>\n",
       "</table>\n",
       "</div>"
      ],
      "text/plain": [
       "          ServiceStationName                              Address     Suburb  \\\n",
       "0  Metro Petroleum Islington  144 Maitland Rd, ISLINGTON NSW 2296  ISLINGTON   \n",
       "1      Independent Punchbowl   10-12 Park Ave, Punchbowl NSW 2196  Punchbowl   \n",
       "2      Independent Punchbowl   10-12 Park Ave, Punchbowl NSW 2196  Punchbowl   \n",
       "3      Independent Punchbowl   10-12 Park Ave, Punchbowl NSW 2196  Punchbowl   \n",
       "4                Metro Minto    1 Brookfield Road, Minto NSW 2566      Minto   \n",
       "\n",
       "   Postcode        Brand FuelCode    PriceUpdatedDate  Price  \\\n",
       "0    2296.0   Metro Fuel      E10 2017-10-01 00:02:52  116.9   \n",
       "1    2196.0  Independent      E10 2017-10-01 00:08:44  119.9   \n",
       "2    2196.0  Independent      P98 2017-10-01 00:08:44  139.9   \n",
       "3    2196.0  Independent      U91 2017-10-01 00:08:44  122.9   \n",
       "4    2566.0   Metro Fuel      E10 2017-10-01 00:13:51  133.9   \n",
       "\n",
       "  PriceUpdatedDate_date  \n",
       "0            2017-10-01  \n",
       "1            2017-10-01  \n",
       "2            2017-10-01  \n",
       "3            2017-10-01  \n",
       "4            2017-10-01  "
      ]
     },
     "execution_count": 2,
     "metadata": {},
     "output_type": "execute_result"
    }
   ],
   "source": [
    "# Convert to proper date field and extract date\n",
    "data['PriceUpdatedDate'] = pd.to_datetime(data['PriceUpdatedDate'])\n",
    "data['PriceUpdatedDate_date'] = data['PriceUpdatedDate'].dt.date\n",
    "\n",
    "# Assuming any prices over $2.50/L is an error\n",
    "data.drop(data[data['Price']>=250].index, inplace=True)\n",
    "\n",
    "data.head()"
   ]
  },
  {
   "cell_type": "code",
   "execution_count": null,
   "metadata": {},
   "outputs": [],
   "source": [
    "import seaborn as sns\n",
    "\n",
    "% matplotlib inline\n",
    "\n",
    "data[['Price','PriceUpdatedDate_date']].groupby(['PriceUpdatedDate_date']).mean().plot();\n",
    "data[['Price','PriceUpdatedDate_date']].groupby(['PriceUpdatedDate_date']).median().plot();\n",
    "data[['Price','PriceUpdatedDate_date']].groupby(['PriceUpdatedDate_date']).max().plot();\n",
    "data[['Price','PriceUpdatedDate_date']].groupby(['PriceUpdatedDate_date']).min().plot();"
   ]
  }
 ],
 "metadata": {
  "kernelspec": {
   "display_name": "Python [default]",
   "language": "python",
   "name": "python3"
  },
  "language_info": {
   "codemirror_mode": {
    "name": "ipython",
    "version": 3
   },
   "file_extension": ".py",
   "mimetype": "text/x-python",
   "name": "python",
   "nbconvert_exporter": "python",
   "pygments_lexer": "ipython3",
   "version": "3.5.3"
  }
 },
 "nbformat": 4,
 "nbformat_minor": 2
}
